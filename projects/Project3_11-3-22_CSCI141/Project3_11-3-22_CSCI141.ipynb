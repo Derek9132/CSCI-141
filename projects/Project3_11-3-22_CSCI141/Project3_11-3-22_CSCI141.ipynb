{
 "cells": [
  {
   "cell_type": "code",
   "execution_count": null,
   "metadata": {},
   "outputs": [],
   "source": [
    "ENG_WORDS = ['i', 'me', 'my', 'myself', 'we', 'our', 'ours', 'ourselves', 'you', \"you're\", \"you've\", \n",
    "             \"you'll\", \"you'd\", 'your', 'yours', 'yourself', 'yourselves', 'he', 'him', 'his', 'himself', \n",
    "             'she', \"she's\", 'her', 'hers', 'herself', 'it', \"it's\", 'its', 'itself', 'they', 'them', \n",
    "             'their', 'theirs', 'themselves', 'what', 'which', 'who', 'whom', 'this', 'that', \"that'll\", \n",
    "             'these', 'those', 'am', 'is', 'are', 'was', 'were', 'be', 'been', 'being', 'have', 'has', \n",
    "             'had', 'having', 'do', 'does', 'did', 'doing', 'a', 'an', 'the', 'and', 'but', 'if', 'or', \n",
    "             'because', 'as', 'until', 'while', 'of', 'at', 'by', 'for', 'with', 'about', 'against', \n",
    "             'between', 'into', 'through', 'during', 'before', 'after', 'above', 'below', 'to', 'from', \n",
    "             'up', 'down', 'in', 'out', 'on', 'off', 'over', 'under', 'again', 'further', 'then', 'once', \n",
    "             'here', 'there', 'when', 'where', 'why', 'how', 'all', 'any', 'both', 'each', 'few', 'more', \n",
    "             'most', 'other', 'some', 'such', 'no', 'nor', 'not', 'only', 'own', 'same', 'so', 'than', 'too', \n",
    "             'very', 's', 't', 'can', 'will', 'just', 'don', \"don't\", 'should', \"should've\", 'now', 'd', 'll', \n",
    "             'm', 'o', 're', 've', 'y', 'ain', 'aren', \"aren't\", 'couldn', \"couldn't\", 'didn', \"didn't\", 'doesn', \n",
    "             \"doesn't\", 'hadn', \"hadn't\", 'hasn', \"hasn't\", 'haven', \"haven't\", 'isn', \"isn't\", 'ma', 'mightn', \n",
    "             \"mightn't\", 'mustn', \"mustn't\", 'needn', \"needn't\", 'shan', \"shan't\", 'shouldn', \"shouldn't\", 'wasn', \n",
    "             \"wasn't\", 'weren', \"weren't\", 'won', \"won't\", 'wouldn', \"wouldn't\"] "
   ]
  },
  {
   "cell_type": "markdown",
   "metadata": {},
   "source": [
    "### Please Read Project3.pdf\n",
    "#### For grading purposes, you can expect significant grade penalties if you import anything or write any function definition that is not needed in this project.\n"
   ]
  },
  {
   "cell_type": "markdown",
   "metadata": {},
   "source": [
    "```python \n",
    "# Do not put your main program or test code in Project_3.py\n",
    "```"
   ]
  },
  {
   "cell_type": "markdown",
   "metadata": {},
   "source": [
    "#### Task 1: distill_tweet _correction_\n",
    "You must correct the lines in place.\n",
    "\n",
    "> Input: a single **string** that is a Tweet\n",
    "\n",
    "> The function returns a **list** that is the remaining words from the processed tweet. The function should print **nothing**.\n",
    "\n",
    "> **Replace** apostrophes (‘ and ' ) and dashes with a space instead of deleting them `’'—-`\n",
    "\n",
    "> **Remove** other Punctuation specified by **punct**"
   ]
  },
  {
   "cell_type": "markdown",
   "metadata": {},
   "source": [
    "**Recap**\n",
    "\n",
    "The **operator precedence** in Python is listed in the following table. It is in descending order (upper group has higher precedence than the lower ones). https://docs.python.org/3/reference/expressions.html"
   ]
  },
  {
   "cell_type": "markdown",
   "metadata": {},
   "source": [
    "| Operators        | Meaning        | \n",
    "| ------------- |:-------------:| \n",
    "| ()      | Parentheses | \n",
    "| **      | Exponent      |  \n",
    "| *, /, //, % | Multiplication, Division, Floor division, Modulus      |   \n",
    "| +, -      | Addition, Subtraction | \n",
    "| ==, !=, >, >=, <, <=, is, is not, in, not in      | Comparisons, Identity, Membership operators      | \n",
    "| not      | Logical NOT |\n",
    "| and      | Logical AND | \n",
    "| or      | Logical OR | "
   ]
  },
  {
   "cell_type": "code",
   "execution_count": 1,
   "metadata": {},
   "outputs": [
    {
     "ename": "SyntaxError",
     "evalue": "invalid syntax (1698394222.py, line 2)",
     "output_type": "error",
     "traceback": [
      "\u001b[1;36m  Input \u001b[1;32mIn [1]\u001b[1;36m\u001b[0m\n\u001b[1;33m    words = str_tweet.split().translate('’'',' ','.,;!?\"').lower()\u001b[0m\n\u001b[1;37m                                                   ^\u001b[0m\n\u001b[1;31mSyntaxError\u001b[0m\u001b[1;31m:\u001b[0m invalid syntax\n"
     ]
    }
   ],
   "source": [
    "def distill_tweet(str_tweet, punct = '.,;!?\":/'):\n",
    "    words = str_tweet.split().translate('’'',' ','.,;!?\"').lower()\n",
    "    result = words\n",
    "    for word in tweet:\n",
    "        if word in ENG_WORDS or 'https' in words or word.isnumber():\n",
    "            result.pop(word)\n",
    "            return result"
   ]
  },
  {
   "cell_type": "code",
   "execution_count": null,
   "metadata": {},
   "outputs": [],
   "source": [
    "# If your functions are correct, you should get True for all test code"
   ]
  },
  {
   "cell_type": "code",
   "execution_count": null,
   "metadata": {},
   "outputs": [],
   "source": [
    "# test code 1 (optional)\n",
    "my_distill_tweet = distill_tweet('Taco trucks on every corner? Business group wants them at every polling site instead. https://t.co/7YKcn1vzNf #politics')\n",
    "expected_result = ['taco', 'trucks', 'every', 'corner', 'business', 'group', 'wants', 'every', 'polling', 'site', 'instead', '#politics']\n",
    "print(my_distill_tweet == expected_result)"
   ]
  },
  {
   "cell_type": "code",
   "execution_count": null,
   "metadata": {},
   "outputs": [],
   "source": [
    "# test code 2 (optional)\n",
    "my_distill_tweet = distill_tweet(\"Smithsonian Celebrates 'Star Trek's' 50th Anniversary https://t.co/HatHjsTHkG\")\n",
    "expected_result = ['smithsonian', 'celebrates', 'star', 'trek', '50th', 'anniversary']\n",
    "print(my_distill_tweet == expected_result)"
   ]
  },
  {
   "cell_type": "code",
   "execution_count": null,
   "metadata": {},
   "outputs": [],
   "source": [
    "# test code 3 (optional)\n",
    "my_distill_tweet = distill_tweet(\"Patricia Barry, daytime-television and film actress, dies at 93 https://t.co/fD3gFivZkx\", ',;$')\n",
    "expected_result = ['patricia', 'barry', 'daytime', 'television', 'film', 'actress', 'dies']\n",
    "print(my_distill_tweet == expected_result)"
   ]
  },
  {
   "cell_type": "markdown",
   "metadata": {},
   "source": [
    "\n",
    "---"
   ]
  },
  {
   "cell_type": "markdown",
   "metadata": {},
   "source": [
    "#### Task 2: top_entries function\n",
    "(You have to write this function)\n",
    "\n",
    "> Input: `tweets` (required argument) is a **list** of tweets, that is, a list of strings that are tweets. \n",
    "\n",
    "> The function returns a **dictionary**: strings as **keys** and integer counts as **values**\n",
    "\n",
    "> Within this function, you MUST use your `distill_tweet` function to pre-process the `tweets`. Do NOT re-write the code from `distill_tweet` to do this inside this function.  \n",
    "\n",
    "(The input for `distill_tweet` function is a a single string, but the input for this function is a list of strings. You will need to pull the string out from the list one at a time.)\n",
    "\n",
    "> There are 3 different scenarios: \n",
    "  \n",
    "  (1) When `hashes` is True, you don't need to consider `mentions`. The function will only consider words that start with the # character. \n",
    "  \n",
    "  (2) When `hashes` is False and `mentions` is True,  the function will only consider words that start with the @ character.\n",
    "  \n",
    "  (3) When `hashes` is False and `mentions` is False, the function will consider all words in the tweets that do not start with @ or #.\n",
    "  \n",
    "> The min_count parameter provides a lower bound.\n",
    "\n",
    "> Dictionaries are inherently unordered in Python."
   ]
  },
  {
   "cell_type": "code",
   "execution_count": null,
   "metadata": {},
   "outputs": [],
   "source": [
    "def top_entries(tweets, min_count = 1, hashes = False, mentions = False, punct = '.,;!?\":/'):\n",
    "    pass"
   ]
  },
  {
   "cell_type": "markdown",
   "metadata": {},
   "source": [
    "**_test code 1_** (optional)"
   ]
  },
  {
   "cell_type": "code",
   "execution_count": null,
   "metadata": {},
   "outputs": [],
   "source": [
    "example_1 = ['Donald Trump inauguration: Protests begin to turn violent https://t.co/HSM2dzQTkW',\n",
    "             'Trump pitches $20 billion education plan at Ohio charter school that received poor marks from state https://t.co/z0QvxHqiNl #politics', \n",
    "             'FIRST Global Challenge visas granted to 99% of teams https://t.co/RdpueSdV60 https://t.co/fD99GAEL5R', \n",
    "             'Largest federal employee union endorses Clinton #politics', \n",
    "             \"New report examines Idaho's Medicaid mental health manager #health\"]"
   ]
  },
  {
   "cell_type": "code",
   "execution_count": null,
   "metadata": {},
   "outputs": [],
   "source": [
    "my_top_entries = top_entries(example_1, hashes = True)\n",
    "expected_result = {'#health': 1, '#politics': 2}\n",
    "print(my_top_entries == expected_result)"
   ]
  },
  {
   "cell_type": "code",
   "execution_count": null,
   "metadata": {},
   "outputs": [],
   "source": [
    "my_top_entries = top_entries(example_1, hashes = True, min_count = 2)\n",
    "expected_result = {'#politics': 2}\n",
    "print(my_top_entries == expected_result)"
   ]
  },
  {
   "cell_type": "markdown",
   "metadata": {},
   "source": [
    "**_test code 2_** (optional)"
   ]
  },
  {
   "cell_type": "code",
   "execution_count": null,
   "metadata": {},
   "outputs": [],
   "source": [
    "example_2 = [\"@willhoerter We can't afford another democrat in the Office\",\n",
    "            \"@minasmith64 @willhoerter Law-abiding citizen and responsible gun owner\",\n",
    "            '@Davesmyname @MalcusD @CNN Puppets, never waste your time watching CNN Politics',\n",
    "            '@Cameron_Gray @WarDamnGunners Omg, and they claim to be open-minded?']"
   ]
  },
  {
   "cell_type": "code",
   "execution_count": null,
   "metadata": {},
   "outputs": [],
   "source": [
    "my_top_entries = top_entries(example_2, mentions = True)\n",
    "expected_result = {'@willhoerter': 2, '@minasmith64': 1, '@davesmyname': 1, '@malcusd': 1, '@cnn': 1, '@cameron_gray': 1, '@wardamngunners': 1}\n",
    "print(my_top_entries == expected_result)"
   ]
  },
  {
   "cell_type": "code",
   "execution_count": null,
   "metadata": {},
   "outputs": [],
   "source": [
    "my_top_entries = top_entries(example_2, mentions = True, min_count = 2)\n",
    "expected_result = {'@willhoerter': 2}\n",
    "print(my_top_entries == expected_result)"
   ]
  },
  {
   "cell_type": "markdown",
   "metadata": {},
   "source": [
    "**_test code 3_** (optional)"
   ]
  },
  {
   "cell_type": "code",
   "execution_count": null,
   "metadata": {},
   "outputs": [],
   "source": [
    "example_3 = ['7 Ways to Stay Cool and Safe During the Heat Wave https://t.co/vsazA5brGa https://t.co/kDLlarujBV',\n",
    "            'Bevin wants to downsize scope of KentuckyWired project #business #news',\n",
    "            'Dodgers outright pitcher Brandon Beachy to TripleA #baseball',\n",
    "            'Michigan couple starts pillow project for ill children #health',\n",
    "            'Trump files objection to Stein recount request in Michigan https://t.co/3xYiGHVyV0 https://t.co/WwOZ22DFBW']"
   ]
  },
  {
   "cell_type": "code",
   "execution_count": null,
   "metadata": {},
   "outputs": [],
   "source": [
    "my_top_entries = top_entries(example_3)\n",
    "expected_result = {'ways': 1, 'stay': 1, 'cool': 1, 'safe': 1, 'heat': 1, 'wave': 1, 'bevin': 1, 'wants': 1, 'downsize': 1, \n",
    "                   'scope': 1, 'kentuckywired': 1, 'project': 2, 'dodgers': 1, 'outright': 1, 'pitcher': 1, 'brandon': 1, \n",
    "                   'beachy': 1, 'triplea': 1, 'michigan': 2, 'couple': 1, 'starts': 1, 'pillow': 1, 'ill': 1, 'children': 1, \n",
    "                   'trump': 1, 'files': 1, 'objection': 1, 'stein': 1, 'recount': 1, 'request': 1}\n",
    "print(my_top_entries == expected_result)"
   ]
  },
  {
   "cell_type": "code",
   "execution_count": null,
   "metadata": {},
   "outputs": [],
   "source": [
    "my_top_entries = top_entries(example_3, min_count = 2)\n",
    "expected_result = {'project': 2, 'michigan': 2}\n",
    "print(my_top_entries == expected_result)"
   ]
  },
  {
   "cell_type": "markdown",
   "metadata": {},
   "source": [
    "\n",
    "---"
   ]
  },
  {
   "cell_type": "markdown",
   "metadata": {},
   "source": [
    "#### Task 3: tweets_from_file(filename)\n",
    "\n",
    "(You have to write this function using **list comprehension**)\n",
    "\n",
    "> **Input**: a string that is a filename of a file. The file contains tweets, one tweet per line.\n",
    "\n",
    "> The function should **return** the list of tweets and print nothing.\n",
    "\n",
    "> Test this function on the file called SAMPLE.txt, whose format has one tweet per line.\n",
    "\n",
    "For example,\n",
    "\n",
    "If we **_input_** a file containing the information shown:\n",
    "\n",
    "<pre>\n",
    "Fort Worth Prepares for Possibility of Slick Roads https://t.co/LGlhZwHNKi https://t.co/r1pPaNUuEJ\n",
    "Russian Jet Comes Feet From US Spy Plane Over Baltic https://t.co/P31lKk3AHW https://t.co/tdhVdKVWqp\n",
    "Cowboys Make Annual Children's Hospital Christmas Visit https://t.co/3BSk0qKrRj https://t.co/BrOycTQ7zj\n",
    "</pre>\n",
    "\n",
    "The **_return value_** from the tweets_from_file function would be:\n",
    "<pre>\n",
    "['Fort Worth Prepares for Possibility of Slick Roads https://t.co/LGlhZwHNKi https://t.co/r1pPaNUuEJ', 'Russian Jet Comes Feet From US Spy Plane Over Baltic https://t.co/P31lKk3AHW https://t.co/tdhVdKVWqp', \"Cowboys Make Annual Children's Hospital Christmas Visit https://t.co/3BSk0qKrRj https://t.co/BrOycTQ7zj\"]\n",
    "</pre>"
   ]
  },
  {
   "cell_type": "code",
   "execution_count": null,
   "metadata": {},
   "outputs": [],
   "source": [
    "def tweets_from_file(filename):\n",
    "    pass"
   ]
  },
  {
   "cell_type": "markdown",
   "metadata": {},
   "source": [
    "**_test code: testing on the file called SAMPLE.txt_** (optional)"
   ]
  },
  {
   "cell_type": "code",
   "execution_count": null,
   "metadata": {},
   "outputs": [],
   "source": [
    "# If you see weird characters in your result, then specify encoding = 'UTF8'\n",
    "my_tweets_from_file = tweets_from_file('SAMPLE.txt')\n",
    "#print(my_tweets_from_file)\n",
    "expected_result = ['Pay It 4ward: Woman helps veterans cope with PTSD https://t.co/L8YJsycFJ1 https://t.co/pezYS9oyXS', \n",
    "                   'New Mexico lawmakers attempt to tackle state’s car theft problem https://t.co/tNwl8ZtW0E https://t.co/iaz9cTY0bR', \n",
    "                   \"Bills to reinstate New Mexico's solar tax credit move ahead https://t.co/8F5s6XreFp https://t.co/D20GWKPgLb\",\n",
    "                   \"Senate confirms Trump's nominee for US ambassador to the UN https://t.co/vasbxjsBeZ https://t.co/rb3XP81ids\"]\n",
    "print(my_tweets_from_file == expected_result)"
   ]
  },
  {
   "cell_type": "markdown",
   "metadata": {},
   "source": [
    "---"
   ]
  },
  {
   "cell_type": "markdown",
   "metadata": {},
   "source": [
    "### Main program"
   ]
  },
  {
   "cell_type": "markdown",
   "metadata": {},
   "source": [
    "#### You need to print out the object you created."
   ]
  },
  {
   "cell_type": "code",
   "execution_count": null,
   "metadata": {},
   "outputs": [],
   "source": [
    "# test code (optional)\n",
    "# Create a dictionary containing words (no hashtags or mentions) that appear at least 2 times in tweets from SAMPLE.txt\n",
    "# The expected result: {'new': 2, 'mexico': 2}"
   ]
  }
 ],
 "metadata": {
  "kernelspec": {
   "display_name": "Python 3 (ipykernel)",
   "language": "python",
   "name": "python3"
  },
  "language_info": {
   "codemirror_mode": {
    "name": "ipython",
    "version": 3
   },
   "file_extension": ".py",
   "mimetype": "text/x-python",
   "name": "python",
   "nbconvert_exporter": "python",
   "pygments_lexer": "ipython3",
   "version": "3.9.12"
  }
 },
 "nbformat": 4,
 "nbformat_minor": 2
}
